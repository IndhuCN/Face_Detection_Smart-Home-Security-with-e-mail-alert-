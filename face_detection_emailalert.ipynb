{
 "cells": [
  {
   "cell_type": "code",
   "execution_count": 2,
   "metadata": {},
   "outputs": [
    {
     "name": "stdout",
     "output_type": "stream",
     "text": [
      "Defaulting to user installation because normal site-packages is not writeable\n",
      "Requirement already satisfied: opencv-python in c:\\users\\lenovo\\appdata\\roaming\\python\\python312\\site-packages (4.10.0.84)\n",
      "Requirement already satisfied: numpy>=1.21.2 in c:\\users\\lenovo\\appdata\\roaming\\python\\python312\\site-packages (from opencv-python) (1.26.4)\n",
      "Note: you may need to restart the kernel to use updated packages.\n"
     ]
    }
   ],
   "source": [
    "pip install --upgrade opencv-python\n"
   ]
  },
  {
   "cell_type": "code",
   "execution_count": 3,
   "metadata": {},
   "outputs": [
    {
     "name": "stdout",
     "output_type": "stream",
     "text": [
      "Defaulting to user installation because normal site-packages is not writeable\n",
      "Requirement already satisfied: opencv-python in c:\\users\\lenovo\\appdata\\roaming\\python\\python312\\site-packages (4.10.0.84)\n",
      "Requirement already satisfied: dlib in c:\\users\\lenovo\\appdata\\roaming\\python\\python312\\site-packages (19.24.99)\n",
      "Requirement already satisfied: numpy>=1.21.2 in c:\\users\\lenovo\\appdata\\roaming\\python\\python312\\site-packages (from opencv-python) (1.26.4)\n",
      "Note: you may need to restart the kernel to use updated packages.\n"
     ]
    }
   ],
   "source": [
    "pip install opencv-python dlib\n"
   ]
  },
  {
   "cell_type": "code",
   "execution_count": 4,
   "metadata": {},
   "outputs": [
    {
     "name": "stdout",
     "output_type": "stream",
     "text": [
      "Defaulting to user installation because normal site-packages is not writeable\n",
      "Requirement already satisfied: face_recognition in c:\\users\\lenovo\\appdata\\roaming\\python\\python312\\site-packages (1.3.0)\n",
      "Requirement already satisfied: face-recognition-models>=0.3.0 in c:\\users\\lenovo\\appdata\\roaming\\python\\python312\\site-packages (from face_recognition) (0.3.0)\n",
      "Requirement already satisfied: Click>=6.0 in c:\\users\\lenovo\\appdata\\roaming\\python\\python312\\site-packages (from face_recognition) (8.1.7)\n",
      "Requirement already satisfied: dlib>=19.7 in c:\\users\\lenovo\\appdata\\roaming\\python\\python312\\site-packages (from face_recognition) (19.24.99)\n",
      "Requirement already satisfied: numpy in c:\\users\\lenovo\\appdata\\roaming\\python\\python312\\site-packages (from face_recognition) (1.26.4)\n",
      "Requirement already satisfied: Pillow in c:\\users\\lenovo\\appdata\\roaming\\python\\python312\\site-packages (from face_recognition) (10.2.0)\n",
      "Requirement already satisfied: colorama in c:\\users\\lenovo\\appdata\\roaming\\python\\python312\\site-packages (from Click>=6.0->face_recognition) (0.4.6)\n",
      "Note: you may need to restart the kernel to use updated packages.\n"
     ]
    }
   ],
   "source": [
    "pip install face_recognition\n"
   ]
  },
  {
   "cell_type": "code",
   "execution_count": 5,
   "metadata": {},
   "outputs": [
    {
     "name": "stdout",
     "output_type": "stream",
     "text": [
      "This is NOT Indhu, Stranger\n"
     ]
    }
   ],
   "source": [
    "import face_recognition\n",
    "\n",
    "# Load a sample picture and learn how to recognize it.\n",
    "known_image = face_recognition.load_image_file(\"WhatsApp Image 2024-07-24 at 17.32.13_ec8e695d.jpg\")\n",
    "known_encoding = face_recognition.face_encodings(known_image)[0]\n",
    "\n",
    "# Load an unknown image\n",
    "unknown_image = face_recognition.load_image_file(\"himal.jpg\")\n",
    "unknown_encoding = face_recognition.face_encodings(unknown_image)[0]\n",
    "\n",
    "# Compare faces\n",
    "results = face_recognition.compare_faces([known_encoding], unknown_encoding)\n",
    "\n",
    "if results[0]:\n",
    "    print(\"This is Indhu\")\n",
    "else:\n",
    "    print(\"This is NOT Indhu, Stranger\")\n",
    "\n"
   ]
  },
  {
   "cell_type": "code",
   "execution_count": 6,
   "metadata": {},
   "outputs": [],
   "source": [
    "import smtplib\n",
    "from email.mime.text import MIMEText\n",
    "\n",
    "def send_email_alert():\n",
    "    # Email details\n",
    "\n",
    "    sender_email = \"enter the sender mail address\"\n",
    "    receiver_email = \"enter the receiver mail address\"\n",
    "    password = \"enter your password\" \n",
    "   \n",
    "\n",
    "    # Email content\n",
    "    message = MIMEText(\"An unknown person was detected. Please be alert!!!\")\n",
    "    message['Subject'] = \"Security Alert\"\n",
    "    message['From'] = sender_email\n",
    "    message['To'] = receiver_email\n",
    "\n",
    "    # Send the email\n",
    "    with smtplib.SMTP_SSL(\"smtp.gmail.com\", 465) as server:\n",
    "        server.login(sender_email, password)\n",
    "        server.sendmail(sender_email, receiver_email, message.as_string())\n",
    "\n",
    "# Call this function when an unknown person is detected\n",
    "# send_email_alert()\n"
   ]
  },
  {
   "cell_type": "code",
   "execution_count": 7,
   "metadata": {},
   "outputs": [
    {
     "name": "stdout",
     "output_type": "stream",
     "text": [
      "Detected: Indhu C N\n",
      "Detected: Indhu C N\n",
      "Detected: Indhu C N\n",
      "Detected: Indhu C N\n",
      "Detected: Indhu C N\n",
      "Detected: Indhu C N\n",
      "Detected: Indhu C N\n",
      "Detected: Indhu C N\n",
      "Detected: Indhu C N\n",
      "Detected: Indhu C N\n",
      "Detected: Indhu C N\n",
      "Detected: Indhu C N\n",
      "Detected: Indhu C N\n",
      "Detected: Indhu C N\n",
      "Detected: Indhu C N\n",
      "Detected: Indhu C N\n",
      "Detected: Unknown\n",
      "Detected: Unknown\n",
      "Detected: Indhu C N\n",
      "Detected: Indhu C N\n",
      "Detected: Indhu C N\n",
      "Detected: Indhu C N\n",
      "Detected: Indhu C N\n"
     ]
    }
   ],
   "source": [
    "import cv2\n",
    "import face_recognition\n",
    "\n",
    "# Load known faces\n",
    "known_image = face_recognition.load_image_file(\"WhatsApp Image 2024-07-24 at 17.32.13_ec8e695d.jpg\")\n",
    "known_encoding = face_recognition.face_encodings(known_image)[0]\n",
    "known_faces = {\"Indhu C N\": known_encoding}\n",
    "\n",
    "# Initialize webcam\n",
    "video_capture = cv2.VideoCapture(0)\n",
    "\n",
    "if not video_capture.isOpened():\n",
    "    print(\"Error: Could not open video capture.\")\n",
    "    exit()\n",
    "\n",
    "while True:\n",
    "    # Capture frame-by-frame\n",
    "    ret, frame = video_capture.read()\n",
    "\n",
    "    # Check if frame was successfully captured\n",
    "    if not ret:\n",
    "        print(\"Error: Could not read frame.\")\n",
    "        break\n",
    "\n",
    "    # Resize the frame for faster processing\n",
    "    new_width, new_height = 640, 480\n",
    "    frame = cv2.resize(frame, (new_width, new_height))\n",
    "\n",
    "    # Convert the image from BGR color to RGB color\n",
    "    rgb_frame = cv2.cvtColor(frame, cv2.COLOR_BGR2RGB)\n",
    "\n",
    "    # Find all the faces and face encodings in the current frame of video\n",
    "    face_locations = face_recognition.face_locations(rgb_frame)\n",
    "    face_encodings = face_recognition.face_encodings(rgb_frame, face_locations)\n",
    "\n",
    "    for (top, right, bottom, left), face_encoding in zip(face_locations, face_encodings):\n",
    "        # See if the face is a match for the known face(s)\n",
    "        matches = face_recognition.compare_faces(list(known_faces.values()), face_encoding)\n",
    "        name = \"Unknown\"\n",
    "\n",
    "        # If a match was found in known_face_encodings, use the first one.\n",
    "        if True in matches:\n",
    "            first_match_index = matches.index(True)\n",
    "            name = list(known_faces.keys())[first_match_index]\n",
    "        else:\n",
    "            send_email_alert()  # Send alert if unknown face detected\n",
    "\n",
    "        # Draw rectangle around the face\n",
    "        color = (0, 0, 255) if name == \"Unknown\" else (0, 255, 0)\n",
    "        cv2.rectangle(frame, (left, top), (right, bottom), color, 2)\n",
    "\n",
    "        # Display the name on the screen\n",
    "        cv2.putText(frame, name, (left, bottom + 20), cv2.FONT_HERSHEY_COMPLEX, 0.75, color, 2)\n",
    "        print(f\"Detected: {name}\")\n",
    "\n",
    "    # Display the resulting image\n",
    "    cv2.imshow('Security Camera Visual', frame)\n",
    "\n",
    "    # Break the loop with 'q'\n",
    "    if cv2.waitKey(1) & 0xFF == ord('q'):\n",
    "        break\n",
    "\n",
    "# Release the webcam and close windows\n",
    "video_capture.release()\n",
    "cv2.destroyAllWindows()\n"
   ]
  },
  {
   "cell_type": "code",
   "execution_count": null,
   "metadata": {},
   "outputs": [],
   "source": []
  },
  {
   "cell_type": "code",
   "execution_count": null,
   "metadata": {},
   "outputs": [],
   "source": []
  },
  {
   "cell_type": "code",
   "execution_count": null,
   "metadata": {},
   "outputs": [],
   "source": []
  },
  {
   "cell_type": "code",
   "execution_count": null,
   "metadata": {},
   "outputs": [],
   "source": []
  },
  {
   "cell_type": "code",
   "execution_count": null,
   "metadata": {},
   "outputs": [],
   "source": []
  },
  {
   "cell_type": "code",
   "execution_count": null,
   "metadata": {},
   "outputs": [],
   "source": []
  },
  {
   "cell_type": "code",
   "execution_count": null,
   "metadata": {},
   "outputs": [],
   "source": []
  }
 ],
 "metadata": {
  "kernelspec": {
   "display_name": "Python 3",
   "language": "python",
   "name": "python3"
  },
  "language_info": {
   "codemirror_mode": {
    "name": "ipython",
    "version": 3
   },
   "file_extension": ".py",
   "mimetype": "text/x-python",
   "name": "python",
   "nbconvert_exporter": "python",
   "pygments_lexer": "ipython3",
   "version": "3.12.1"
  }
 },
 "nbformat": 4,
 "nbformat_minor": 2
}
